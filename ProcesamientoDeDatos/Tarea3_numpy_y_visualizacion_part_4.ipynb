{
 "cells": [
  {
   "cell_type": "markdown",
   "metadata": {
    "id": "wCUBh_p_Tqm3"
   },
   "source": [
    "# **Tarea 3, Parte 4: Numpy y Visualización [100 puntos]**"
   ]
  },
  {
   "cell_type": "markdown",
   "metadata": {
    "id": "k36kLCETayxJ"
   },
   "source": [
    "Esta tarea contribuye con el 50% de la evaluación global del curso. \n",
    "\n",
    "Visualización con Matplotlib\n",
    "\n",
    "Elija algún ejemplo de las visualizaciones del material visto en el curso y adáptalo a los datos de un ejemplo obteniendo tus datos de sitios de repositorios como \n",
    "- https://archive.ics.uci.edu/ml/index.php, \n",
    "- https://datos.gob.mx/ \n",
    "- o similares \n",
    "\n",
    "y muestre la visualización."
   ]
  },
  {
   "cell_type": "code",
   "execution_count": null,
   "metadata": {
    "id": "2pzeHwa-a9KW"
   },
   "outputs": [],
   "source": []
  }
 ],
 "metadata": {
  "colab": {
   "name": "Tarea3_numpy_y_visualizacion.ipynb",
   "provenance": []
  },
  "kernelspec": {
   "display_name": "Python 3 (ipykernel)",
   "language": "python",
   "name": "python3"
  },
  "language_info": {
   "codemirror_mode": {
    "name": "ipython",
    "version": 3
   },
   "file_extension": ".py",
   "mimetype": "text/x-python",
   "name": "python",
   "nbconvert_exporter": "python",
   "pygments_lexer": "ipython3",
   "version": "3.10.6"
  }
 },
 "nbformat": 4,
 "nbformat_minor": 4
}
